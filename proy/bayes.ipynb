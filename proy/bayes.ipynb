{
 "cells": [
  {
   "cell_type": "code",
   "execution_count": 3,
   "id": "d152f8c8-5ff8-4b76-94f3-f87f421b03d0",
   "metadata": {},
   "outputs": [
    {
     "name": "stdout",
     "output_type": "stream",
     "text": [
      "Accuracy: 0.5142857142857142\n",
      "Classification Report:\n",
      "              precision    recall  f1-score   support\n",
      "\n",
      "           0       0.56      0.47      0.51        95\n",
      "           1       0.47      0.56      0.51        80\n",
      "\n",
      "    accuracy                           0.51       175\n",
      "   macro avg       0.52      0.52      0.51       175\n",
      "weighted avg       0.52      0.51      0.51       175\n",
      "\n",
      "Confusion Matrix:\n",
      "[[45 50]\n",
      " [35 45]]\n"
     ]
    }
   ],
   "source": [
    "# -*- coding: utf-8 -*-\n",
    "\"\"\"\n",
    "Created on Sun May 26 17:52:47 2024\n",
    "\n",
    "@author: nanor\n",
    "\"\"\"\n",
    "\n",
    "import pandas as pd\n",
    "from sklearn.model_selection import train_test_split\n",
    "from sklearn.naive_bayes import MultinomialNB\n",
    "from sklearn.metrics import classification_report, accuracy_score, confusion_matrix\n",
    "\n",
    "# Cargar los datos preprocesados y las etiquetas\n",
    "tfidf_df = pd.read_csv('tfidf_features.csv')\n",
    "labels_df = pd.read_csv('labels.csv')\n",
    "\n",
    "# Verificar que el número de muestras y etiquetas coincida\n",
    "assert len(tfidf_df) == len(labels_df), \"El número de muestras y etiquetas no coincide\"\n",
    "\n",
    "# Dividir los datos en conjuntos de entrenamiento y prueba\n",
    "X_train, X_test, y_train, y_test = train_test_split(tfidf_df, labels_df, test_size=0.2, random_state=42)\n",
    "\n",
    "# Crear y entrenar el modelo Naive Bayes\n",
    "model = MultinomialNB()\n",
    "model.fit(X_train, y_train.values.ravel())\n",
    "\n",
    "# Realizar predicciones\n",
    "y_pred = model.predict(X_test)\n",
    "\n",
    "# Evaluar el modelo\n",
    "accuracy = accuracy_score(y_test, y_pred)\n",
    "print(f'Accuracy: {accuracy}')\n",
    "print('Classification Report:')\n",
    "print(classification_report(y_test, y_pred))\n",
    "print('Confusion Matrix:')\n",
    "print(confusion_matrix(y_test, y_pred))\n",
    "\n"
   ]
  }
 ],
 "metadata": {
  "kernelspec": {
   "display_name": "Python 3 (ipykernel)",
   "language": "python",
   "name": "python3"
  },
  "language_info": {
   "codemirror_mode": {
    "name": "ipython",
    "version": 3
   },
   "file_extension": ".py",
   "mimetype": "text/x-python",
   "name": "python",
   "nbconvert_exporter": "python",
   "pygments_lexer": "ipython3",
   "version": "3.11.9"
  }
 },
 "nbformat": 4,
 "nbformat_minor": 5
}
