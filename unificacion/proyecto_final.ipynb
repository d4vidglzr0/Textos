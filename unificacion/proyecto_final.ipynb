{
 "cells": [
  {
   "cell_type": "markdown",
   "metadata": {},
   "source": [
    "# ANÁLISIS Y PROCESAMIENTO INTELIGENTE DE TEXTOS\n",
    "\n",
    "## Proyecto final: Analizador de sentimientos de publicaciones en Reddit 🤖\n",
    "\n",
    "**Profesor:** M.P. Octavio Augusto Sanchez  \n",
    "**Grupo:** 01\n",
    "\n",
    "**Alumnos:**\n",
    "- González Ramírez David\n",
    "- Guillen Castillo Jorge Luis\n",
    "- Hernández Sánchez Brenda\n",
    "- Jimenez Avila Javier Alejandro\n",
    "- Mejia Alba Israel Hipolito\n",
    "\n"
   ]
  },
  {
   "cell_type": "markdown",
   "metadata": {},
   "source": [
    "        - Seleccione el valor de control de procesos con la variable: \"ejecuta\" para definir el punto de partida\n",
    "\n",
    "**Opciones de Ejecución:**\n",
    "1. Ejecutar desde el inicio  \n",
    "   - Descarga Datos de Reddit y sigue los procesos desde ahí\n",
    "2. Limpia los datos descargados  \n",
    "   - Preprocesamiento\n",
    "3. Entrenamiento de modelo  \n",
    "   - Tokeniza\n",
    "   - Segmenta datos de entrenamiento y pruebas\n",
    "   - Entrena el modelo\n",
    "4. Análisis y Resultados \n",
    "\n",
    "Nota: si es la primer ejecucion al abrir el notebook es necesario ejecutar el estado anterior al estado objetivo\n",
    "\n"
   ]
  },
  {
   "cell_type": "code",
   "execution_count": 223,
   "metadata": {},
   "outputs": [],
   "source": [
    "ejecuta = 2"
   ]
  },
  {
   "cell_type": "markdown",
   "metadata": {},
   "source": [
    "## 1 Conexion a la API de Reddit  \n",
    "En esta seccion se descargan los datos  \n"
   ]
  },
  {
   "cell_type": "code",
   "execution_count": 224,
   "metadata": {},
   "outputs": [],
   "source": [
    "if ejecuta == 1: \n",
    "    import praw\n",
    "    from langdetect import detect\n",
    "    import pandas as pd\n",
    "    print(\"importando librerias\")"
   ]
  },
  {
   "cell_type": "code",
   "execution_count": 225,
   "metadata": {},
   "outputs": [],
   "source": [
    "if ejecuta == 1: \n",
    "    # Credenciales de la API de Reddit\n",
    "    reddit = praw.Reddit(\n",
    "        client_id=\"8MLdeP4d-tobayhY1cN3iQ\",\n",
    "        client_secret=\"XVH7RcaOLYaun1ms4F5C8kMwTOymdQ\",\n",
    "        user_agent=\"script:Caza Toxicos (by SuperCash9022)\"\n",
    "    )\n",
    "\n",
    "    # Verificar autenticación\n",
    "    try:\n",
    "        reddit.user.me()\n",
    "        print(\"Autenticación exitosa\")\n",
    "    except Exception as e:\n",
    "        print(f\"Error durante la autenticación: {e}\")\n",
    "        exit()\n",
    "\n",
    "    # Lista de subreddits relevantes\n",
    "    #subreddits = [\"Mexico\", \"politica\", \"worldnews\", \"news\",\"presidente\"]\n",
    "    #subreddits = [\"Mexico\", \"mexico\", \"politica\", \"worldnews\", \"news\", \"gobierno\", \"EleccionesMéxico2024\", \"politicaMX\", \"morena\", \"PVEM\", \"PT\", \"pan\", \"pri\", \"prd\", \"mc\", \"Giovani Gutiérrez\", \"Hanna de Lamadrid Téllez\", \"Sofía Margarita Provencio Odonoghue\",\"2dejunio\", \"AMLO\", \"ClaudiaSheinbaum\", \"Sheinbaum\", \"XochitlGalvez\", \"Maynez\", \"JorgeAlvarezMaynez \", \"MORENA\", \"PRI\", \"PAN\", \"PRD\", \"MC\", \"PVEM\", \"PT\", \"GiovaniGutierrez\", \"HannaLamadrid\", \"SofiaProvencio\", \"Elecciones2024\", \"EleccionesMéxico2024\", \"EleccionesMéxico\", \"Elecciones2024México\"]\n",
    "\n",
    "    \n",
    "    query = \"política\", \"politicaMX\",\"elecciones\" \n",
    "\n",
    "    subreddits = [\"Mexico\", \"mexico\", \"politica\", \"worldnews\", \"news\", \"coyoacan\",\"gobierno\", \"EleccionesMéxico2024\", \"politicaMX\", \"morena\", \"PVEM\", \"PT\", \"pan\", \"pri\", \"prd\", \"mc\", \"Giovani Gutiérrez\", \"Hanna de Lamadrid Téllez\", \"Sofía Margarita Provencio Odonoghue\",\"2dejunio\"]\n",
    " \n",
    "    posts = []\n",
    "    try:\n",
    "        for subreddit_name in subreddits:\n",
    "            subreddit = reddit.subreddit(subreddit_name) \n",
    "            for post in subreddit.search(query, limit=10000):  # Ajustar sort a \"new\" para obtener posts recientes\n",
    "                # Detectar el idioma del post\n",
    "                try:\n",
    "                    if detect(post.title + \" \" + post.selftext) == 'es': \n",
    "                        posts.append(post.title + \"\\n\" + post.selftext)\n",
    "                        print(f\"Post: {post.title[:50]}\")  # Mostrar los primeros 50 caracteres del título\n",
    "                except:\n",
    "                    # En caso de que no se pueda detectar el idioma, ignorar el post\n",
    "                    continue\n",
    "    except Exception as e:\n",
    "        print(f\"Error durante la recolección de posts: {e}\")\n",
    "\n",
    "    # Convertir los posts en un DataFrame y añadir una columna 'label' vacía para su posterior clasificación manual\n",
    "    df_posts = pd.DataFrame(posts, columns=[\"post\"])\n",
    "    df_posts['label'] = \"\"\n",
    "\n",
    "    # Guardar el DataFrame en un archivo CSV\n",
    "    df_posts.to_csv('datos_reddit.csv', index=False, encoding='utf-8')\n",
    "\n",
    "    # Guardar los posts en un archivo para su posterior análisis\n",
    "    try:\n",
    "        with open('reddit_posts.txt', 'w', encoding='utf-8') as f:\n",
    "            for post in posts:\n",
    "                f.write(\"%s\\n\\n\" % post)\n",
    "        print(\"Posts guardados en 'reddit_post.txt'.\") # ------------------------------------- Se guardan en un archivo de texto\n",
    "    except Exception as e:\n",
    "        print(f\"Error al guardar los posts: {e}\")"
   ]
  },
  {
   "cell_type": "code",
   "execution_count": 226,
   "metadata": {},
   "outputs": [
    {
     "name": "stdout",
     "output_type": "stream",
     "text": [
      "<class 'pandas.core.frame.DataFrame'>\n",
      "RangeIndex: 452 entries, 0 to 451\n",
      "Data columns (total 3 columns):\n",
      " #   Column  Non-Null Count  Dtype \n",
      "---  ------  --------------  ----- \n",
      " 0   post    452 non-null    object\n",
      " 1   label   452 non-null    object\n",
      " 2   manual  452 non-null    object\n",
      "dtypes: object(3)\n",
      "memory usage: 10.7+ KB\n"
     ]
    }
   ],
   "source": [
    "df_posts.info()"
   ]
  },
  {
   "cell_type": "code",
   "execution_count": 227,
   "metadata": {},
   "outputs": [
    {
     "name": "stdout",
     "output_type": "stream",
     "text": [
      "['contento', 'contenta', 'feliz', 'alegre', 'satisfecho', 'satisfecha', 'eufórico', 'eufórica', 'entusiasmado', 'entusiasmada', 'radiante', 'gozoso', 'gozosa', 'encantado', 'encantada', 'jubiloso', 'jubilosa', 'optimista', 'animado', 'animada', 'exultante', 'bienhumorado', 'bienhumorada', 'dichoso', 'dichosa', 'agradecido', 'agradecida', 'emocionado', 'emocionada', 'rejuvenecido', 'rejuvenecida', 'alegría', 'placer', 'regocijo', 'felicidad', 'júbilo', 'entusiasmo', 'satisfacción', 'contentamiento', 'éxtasis', 'deleite', 'encanto', 'gratitud', 'jovial', 'risueño', 'risueña', 'extasiado', 'extasiada', 'placentero', 'placentera', 'regocijado', 'regocijada', 'deleitante', 'efusivo', 'efusiva', 'entusiasta', 'extático', 'extática']\n"
     ]
    }
   ],
   "source": [
    "def eliminar_repetidos(lista):\n",
    "    \"\"\"Elimina elementos repetidos de una lista.\n",
    "    \n",
    "    Args:\n",
    "        lista (list): La lista original con posibles elementos repetidos.\n",
    "    \n",
    "    Returns:\n",
    "        list: Una nueva lista con elementos únicos.\n",
    "    \"\"\"\n",
    "    elementos_unicos = []\n",
    "    elementos_vistos = set()\n",
    "    \n",
    "    for elemento in lista:\n",
    "        if elemento not in elementos_vistos:\n",
    "            elementos_unicos.append(elemento)\n",
    "            elementos_vistos.add(elemento)\n",
    "    \n",
    "    return elementos_unicos\n",
    "\n",
    "# Ejemplo de uso\n",
    "palabras_molesto = [\n",
    "    'contento', 'contenta', 'feliz', 'alegre', 'satisfecho', 'satisfecha', 'eufórico', 'eufórica', \n",
    "    'entusiasmado', 'entusiasmada', 'radiante', 'gozoso', 'gozosa', 'encantado', 'encantada', \n",
    "    'jubiloso', 'jubilosa', 'optimista', 'animado', 'animada', 'exultante', 'bienhumorado', \n",
    "    'bienhumorada', 'dichoso', 'dichosa', 'agradecido', 'agradecida', 'emocionado', 'emocionada', \n",
    "    'rejuvenecido', 'rejuvenecida', 'alegría', 'placer', 'regocijo', 'felicidad', 'júbilo', \n",
    "    'entusiasmo', 'satisfacción', 'contentamiento', 'éxtasis', 'deleite', 'encanto', 'gratitud', 'eufórico', 'eufórica', 'jovial', 'jovial', 'animado', 'animada', 'alegre', 'alegría', \n",
    "    'contento', 'contenta', 'risueño', 'risueña', 'satisfecho', 'satisfecha', 'optimista', \n",
    "    'extasiado', 'extasiada', 'jubiloso', 'jubilosa', 'dichoso', 'dichosa', 'agradecido', \n",
    "    'agradecida', 'emocionado', 'emocionada', 'feliz', 'contento', 'contenta', 'exultante', \n",
    "    'alegre', 'bienhumorado', 'bienhumorada', 'gozoso', 'gozosa', 'placentero', 'placentera', \n",
    "    'regocijado', 'regocijada', 'encantado', 'encantada', 'deleitante', 'felicidad', 'júbilo', \n",
    "    'entusiasmo', 'optimista', 'satisfacción', 'encantado', 'encantada',\n",
    "    'radiante', 'radiante', 'jubiloso', 'jubilosa', 'risueño', 'risueña', 'efusivo', 'efusiva', \n",
    "    'encantado', 'encantada', 'agradecido', 'agradecida', 'contento', 'contenta', 'entusiasta', \n",
    "    'entusiasta', 'regocijado', 'regocijada', 'optimista', 'optimista', 'alegre', 'alegre', \n",
    "    'feliz', 'feliz', 'extático', 'extática', 'emocionado', 'emocionada', 'satisfecho', \n",
    "    'satisfecha', 'gozoso', 'gozosa', 'radiante', 'radiante', 'exultante', 'exultante', \n",
    "    'jubiloso', 'jubilosa', 'eufórico', 'eufórica', 'contento', 'contenta', 'entusiasta', \n",
    "    'entusiasta', 'risueño', 'risueña', 'alegre', 'alegre', 'encantado', 'encantada', 'feliz', \n",
    "    'feliz', 'entusiasta', 'entusiasta', 'contento', 'contenta', 'exultante', 'exultante', \n",
    "    'jubiloso', 'jubilosa', 'dichoso', 'dichosa', 'agradecido', 'agradecida', 'emocionado',\n",
    "]\n",
    "\n",
    "lista_palabras_molesto = eliminar_repetidos(palabras_molesto)\n",
    "print(lista_palabras_molesto)"
   ]
  },
  {
   "cell_type": "code",
   "execution_count": 228,
   "metadata": {},
   "outputs": [],
   "source": [
    "if ejecuta == 1: \n",
    "    # Convertir los posts en un DataFrame y añadir una columna 'label' vacía para su posterior clasificación manual\n",
    "    df_posts = pd.DataFrame(posts, columns=[\"post\"])\n",
    "    df_posts['label'] = \"\"\n",
    "    df_posts['manual'] = \"\"\n",
    "\n",
    "    palabras_molesto = [\n",
    "    'enojado', 'enojada', 'molesto', 'molesta', 'irritado', 'irritada', 'enfurecido', 'enfurecida', \n",
    "    'indignado', 'indignada', 'furioso', 'furiosa', 'cabreado', 'cabreada', 'fastidiado', 'fastidiada', \n",
    "    'rabia', 'enojo', 'furia', 'desquiciado', 'desquiciada', 'irritación', 'colérico', 'colérica', \n",
    "    'resentido', 'resentida', 'ofendido', 'ofendida', 'frustrado', 'frustrada', 'disgustado', 'disgustada', \n",
    "    'ulcerado', 'ulcerada', 'cabreo', 'bronca', 'irascible', 'violento', 'violenta', 'airado', 'airada', \n",
    "    'enervado', 'enervada', 'resentimiento', 'odioso', 'odiosa', 'amargado', 'amargada', 'enfadado', \n",
    "    'enfadada', 'malhumorado', 'malhumorada', 'iracundo', 'iracunda', 'rabioso', 'rabiosa', 'enfurruñado', \n",
    "    'enfurruñada', 'agrio', 'agria', 'antipático', 'antipática', 'enfogonado', 'enfogonada', 'irritante', \n",
    "    'hostil', 'beligerante', 'agresivo', 'agresiva', 'áspero', 'áspera', 'descontento', 'descontenta', \n",
    "    'gruñón', 'gruñona', 'furibundo', 'furibunda', 'incómodo', 'incómoda', 'tenso', 'tensa', 'ira', \n",
    "    'exasperado', 'exasperada', 'agitado', 'agitada', 'irritable', 'pendejo', 'cabrón', 'chingada', \n",
    "    'chingado', 'verga', 'puta', 'joto', 'maricón', 'culero', 'cagado', 'mierda', 'pinche', 'pendeja', \n",
    "    'jodido', 'chingar', 'pedo', 'chingón', 'chinga tu madre', 'perra', 'coger', 'hijo de puta', \n",
    "    'malparido', 'coño', 'cola', 'culo', 'madrazo', 'desgraciado', 'mamón', 'estúpido', 'imbécil', \n",
    "    'idiota', 'inútil', 'basura', 'despreciable', 'maldito', 'bastardo', 'prostituta', 'zorra', 'manco', \n",
    "    'retrasado', 'tarado', 'retardado', 'insulto', 'ofensa', 'maldición', 'odio', 'idiota', 'estúpido', \n",
    "    'imbécil', 'tonto', 'chingar', 'cretino', 'mierda', 'joder', 'cabrón', 'puta', 'huevón', 'tonto', \n",
    "    'carajo', 'cagar', 'mamar', 'negro', 'verga', 'chino', 'judío', 'machista', 'feminazi', 'maricón', \n",
    "    'lesbiana', 'ateo', 'infiel', 'hereje', 'gay', 'marica', 'matar', 'golpear', 'dañar', 'violar', \n",
    "    'golpe', 'puñetazo', 'patada', 'arma', 'cuchillo', 'fodongo', 'voy a encontrarte', 'te voy a destrozar', \n",
    "    'odio', 'asco', 'repugnancia', 'repulsión', 'no me importa', 'me da igual', 'me vale', 'basura', \n",
    "    'inútil', 'despreciable', 'feminazi', 'snowflake', 'genitalia', 'excrementos', 'fluidos', 'corrupto', \n",
    "    'inepto', 'incompetente', 'oportunista', 'mentiroso', 'tramposo', 'hipócrita', 'ladronzuelo', \n",
    "    'demagogo', 'charlatán', 'dictador', 'Manipulador', 'egoísta', 'deshonesto', 'despótico', 'ambicioso', \n",
    "    'farsante', 'cínico', 'chantajista', 'nepotista', 'clientelista', 'vendido', 'inmoral', 'insensible', \n",
    "    'aprovechado', 'patán', 'despreciable', 'traidor', 'tonto útil', 'parásito', 'fantoche', 'tirano', \n",
    "    'grosero', 'incapaz', 'ignorante', 'fanfarrón', 'populista', 'injusto', 'desleal', 'mequetrefe', \n",
    "    'cobarde', 'prepotente', 'explotador', 'soberbio', 'vendepatria', 'mangante', 'intrigante', 'fanático', \n",
    "    'sinvergüenza', 'chayotero', 'fifi', 'rabia', 'envidia', 'resentimiento', 'desprecio', 'rencor', \n",
    "    'amargura', 'malicia', 'venganza', 'desdén', 'hostilidad', 'cinismo', 'negatividad', 'agresión', \n",
    "    'insulto', 'humillación', 'intolerancia', 'prejuicio', 'discriminación', 'violencia', 'maltrato', \n",
    "    'manipulación', 'engaño', 'traición', 'mentira', 'hipocresía', 'falsedad', 'toxicidad', 'veneno', \n",
    "    'perversión', 'enredo', 'conflicto', 'caos', 'dolor', 'sufrimiento', 'desesperación', 'depresión', \n",
    "    'ansiedad', 'angustia', 'desesperanza', 'desaliento', 'desánimo', 'desilusión', 'desgano', 'desinterés', \n",
    "    'apatía', 'desapego', 'indiferencia', 'aislamiento', 'soledad', 'bastardo', 'zorra', 'puto', 'tarado', \n",
    "    'pendejada', 'inche', 'huevón', 'carajo', 'coño', 'cagar', 'mamar', 'follar', 'negro', 'verga', \n",
    "    'chino', 'judío', 'machista', 'feminazi', 'maricón', 'lesbiana', 'ateo', 'infiel', 'hereje', 'gay', \n",
    "    'marica', 'matar', 'golpear', 'dañar', 'violar', 'golpe', 'puñetazo', 'patada', 'arma', 'cuchillo', \n",
    "    'fodongo', 'voy a encontrarte', 'te voy a destrozar', 'odio', 'asco', 'repugnancia', 'repulsión', \n",
    "    'abanto', 'abrazafarolas', 'adufe', 'alcornoque', 'alfeñique', 'andurriasmo', 'arrastracueros', \n",
    "    'artabán', 'Atarre', 'Baboso', 'Barrabás', 'Barriobajero', 'Bebecharcos', 'Bellaco', 'Belloto', \n",
    "    'Berzotas', 'Besugo', 'Bobalicón', 'Bocabuzón', 'Bocachancla', 'Bocallanta', 'Boquimuelle', 'Borrico', \n",
    "    'Botarate', 'Brasas', 'Cabestro', 'Cabezaalberca', 'Cabezabuque', 'Cachibache', 'Cafre', 'Cagalindes', \n",
    "    'Cagarruta', 'Calambuco', 'Calamidad', 'Caldúo', 'Calientahielos', 'Calzamonas', 'Cansalmas', \n",
    "    'Cantamañanas', 'Capullo', 'Caracaballo', 'Caracartón', 'Caraculo', 'Caraflema', 'Carajaula', \n",
    "    'Carajote', 'Carapapa', 'Carapijo', 'Cazurro', 'Cebollino', 'Cenizo', 'Cenutrio', 'Ceporro', \n",
    "    'Cernícalo', 'Charrán', 'Chiquilicuatre', 'Chirimbaina', 'Chupacables', 'Chupasangre', 'Chupóptero', \n",
    "    'Cierrabares', 'Cipote', 'Comebolsas', 'Comechapas', 'Comeflores', 'Comestacas', 'Cretino', \n",
    "    'Cuerpoescombro', 'Culopollo', 'Descerebrado', 'Desgarracalzas', 'Dondiego', 'Donnadie', 'Echacantos', \n",
    "    'Ejarramantas', 'Energúmeno', 'Esbaratabailes']\n",
    "\n",
    "    palabras_contento = ['contento', 'contenta', 'feliz', 'alegre', 'satisfecho', 'satisfecha', 'eufórico', 'eufórica', 'entusiasmado', 'entusiasmada', 'radiante', 'gozoso', 'gozosa', 'encantado', 'encantada', 'jubiloso', 'jubilosa', 'optimista', 'animado', 'animada', 'exultante', 'bienhumorado', 'bienhumorada', 'dichoso', 'dichosa', 'agradecido', 'agradecida', 'emocionado', 'emocionada', 'rejuvenecido', 'rejuvenecida', 'alegría', 'placer', 'regocijo', 'felicidad', 'júbilo', 'entusiasmo', 'satisfacción', 'contentamiento', 'éxtasis', 'deleite', 'encanto', 'gratitud', 'jovial', 'risueño', 'risueña', 'extasiado', 'extasiada', 'placentero', 'placentera', 'regocijado', 'regocijada', 'deleitante', 'efusivo', 'efusiva', 'entusiasta', 'extático', 'extática' ]\n",
    "    \n",
    "    # Revisar cada renglón del DataFrame y asignar la etiqueta correspondiente\n",
    "    for index, row in df_posts.iterrows():\n",
    "        if any(palabra in row['post'] for palabra in palabras_molesto):\n",
    "            df_posts.at[index, 'label'] = 1\n",
    "        elif any(palabra in row['post'] for palabra in palabras_contento):\n",
    "            df_posts.at[index, 'label'] = 2\n",
    "        else:\n",
    "            df_posts.at[index, 'label'] = 0\n",
    "\n",
    " "
   ]
  },
  {
   "cell_type": "code",
   "execution_count": 229,
   "metadata": {},
   "outputs": [
    {
     "name": "stdout",
     "output_type": "stream",
     "text": [
      "Registros con label 0: 378\n",
      "Registros con label 1: 68\n",
      "Registros con label 2: 6\n"
     ]
    }
   ],
   "source": [
    "# Contar registros con cada valor de label\n",
    "conteo_label_0 = df_posts[df_posts['label'] == 0].shape[0]\n",
    "conteo_label_1 = df_posts[df_posts['label'] == 1].shape[0]\n",
    "conteo_label_2 = df_posts[df_posts['label'] == 2].shape[0]\n",
    "\n",
    "# Mostrar los resultados\n",
    "print(f'Registros con label 0: {conteo_label_0}')\n",
    "print(f'Registros con label 1: {conteo_label_1}')\n",
    "print(f'Registros con label 2: {conteo_label_2}')\n",
    "\n",
    "\n"
   ]
  },
  {
   "cell_type": "code",
   "execution_count": 230,
   "metadata": {},
   "outputs": [],
   "source": [
    "\n",
    "ejecuta =1"
   ]
  },
  {
   "cell_type": "code",
   "execution_count": 231,
   "metadata": {},
   "outputs": [],
   "source": [
    "if ejecuta == 1:\n",
    "# Guardar el DataFrame en un archivo CSV\n",
    "    df_posts.to_csv('datos_reddit.csv', index=False, encoding='utf-8')\n",
    "    # Guardar el DataFrame en un archivo Excel \n",
    "    df_posts.to_excel('datos_reddit.xlsx', index=False)"
   ]
  },
  {
   "cell_type": "code",
   "execution_count": 232,
   "metadata": {},
   "outputs": [],
   "source": [
    "ejecuta = 2 # Cambiar a 2 para ejecutar el siguiente bloque de código"
   ]
  },
  {
   "cell_type": "markdown",
   "metadata": {},
   "source": [
    "## 2 Limpieza de los datos"
   ]
  },
  {
   "cell_type": "markdown",
   "metadata": {},
   "source": [
    "lectura de los datos clasificados manualmente para su posterior entrenamiento\n"
   ]
  },
  {
   "cell_type": "code",
   "execution_count": 233,
   "metadata": {},
   "outputs": [
    {
     "name": "stdout",
     "output_type": "stream",
     "text": [
      "<class 'pandas.core.frame.DataFrame'>\n",
      "RangeIndex: 405 entries, 0 to 404\n",
      "Data columns (total 3 columns):\n",
      " #   Column  Non-Null Count  Dtype  \n",
      "---  ------  --------------  -----  \n",
      " 0   post    399 non-null    object \n",
      " 1   label   226 non-null    float64\n",
      " 2   manual  399 non-null    object \n",
      "dtypes: float64(1), object(2)\n",
      "memory usage: 9.6+ KB\n"
     ]
    }
   ],
   "source": [
    "if ejecuta == 2:\n",
    "    df_etiquetado = pd.read_csv(\"datos_reddit_classificacion_manual.csv\", encoding='utf-8')\n",
    "    df_etiquetado.info()"
   ]
  },
  {
   "cell_type": "code",
   "execution_count": 234,
   "metadata": {},
   "outputs": [],
   "source": [
    "if ejecuta == 2:\n",
    "    df_etiquetado.head()"
   ]
  },
  {
   "cell_type": "code",
   "execution_count": 235,
   "metadata": {},
   "outputs": [
    {
     "name": "stdout",
     "output_type": "stream",
     "text": [
      "Registros molesto: 246\n",
      "Registros neutro: 153\n"
     ]
    }
   ],
   "source": [
    "if ejecuta == 2:\n",
    "    # Contar registros con cada valor de label\n",
    "    conteo_molesto = df_etiquetado[df_etiquetado['manual'] == \"molesto\"].shape[0]\n",
    "    conteo_neutro = df_etiquetado[df_etiquetado['manual'] == \"neutro\"].shape[0] \n",
    "\n",
    "    # Mostrar los resultados\n",
    "    print(f'Registros molesto: {conteo_molesto}')\n",
    "    print(f'Registros neutro: {conteo_neutro}') "
   ]
  },
  {
   "cell_type": "code",
   "execution_count": 236,
   "metadata": {},
   "outputs": [],
   "source": [
    "if ejecuta == 2:\n",
    "    #agregando 100 registros neutros\n",
    "    df_neutro = df_posts[df_posts['label'] == 0].head(100)\n",
    "    df_neutro.head()\n"
   ]
  },
  {
   "cell_type": "code",
   "execution_count": 237,
   "metadata": {},
   "outputs": [
    {
     "name": "stdout",
     "output_type": "stream",
     "text": [
      "<class 'pandas.core.frame.DataFrame'>\n",
      "Index: 505 entries, 0 to 121\n",
      "Data columns (total 3 columns):\n",
      " #   Column  Non-Null Count  Dtype \n",
      "---  ------  --------------  ----- \n",
      " 0   post    499 non-null    object\n",
      " 1   label   326 non-null    object\n",
      " 2   manual  499 non-null    object\n",
      "dtypes: object(3)\n",
      "memory usage: 15.8+ KB\n"
     ]
    }
   ],
   "source": [
    "if ejecuta == 2:\n",
    "    df_etiquetado = pd.concat([df_etiquetado, df_neutro])\n",
    "    df_etiquetado.info()"
   ]
  },
  {
   "cell_type": "code",
   "execution_count": 238,
   "metadata": {},
   "outputs": [
    {
     "name": "stdout",
     "output_type": "stream",
     "text": [
      "Registros molesto: 246\n",
      "Registros neutro: 259\n"
     ]
    }
   ],
   "source": [
    "if ejecuta == 2:\n",
    "    # Crear la nueva columna \"label_entrenamiento\" basada en la columna \"manual\"\n",
    "    df_etiquetado['label_entrenamiento'] = df_etiquetado['manual'].apply(\n",
    "                                                lambda x: 1 if x == 'molesto' else 0)\n",
    "\n",
    "    # Contar registros con cada valor de label\n",
    "    conteo_molesto = df_etiquetado[df_etiquetado['label_entrenamiento'] == 1].shape[0]\n",
    "    conteo_neutro = df_etiquetado[df_etiquetado['label_entrenamiento'] == 0].shape[0] \n",
    "\n",
    "    # Mostrar los resultados\n",
    "    print(f'Registros molesto: {conteo_molesto}')\n",
    "    print(f'Registros neutro: {conteo_neutro}') \n"
   ]
  },
  {
   "cell_type": "code",
   "execution_count": 239,
   "metadata": {},
   "outputs": [],
   "source": [
    "ejecuta = 2 # Cambiar a 2 para ejecutar el siguiente bloque de código"
   ]
  },
  {
   "cell_type": "code",
   "execution_count": 240,
   "metadata": {},
   "outputs": [
    {
     "data": {
      "text/html": [
       "<div>\n",
       "<style scoped>\n",
       "    .dataframe tbody tr th:only-of-type {\n",
       "        vertical-align: middle;\n",
       "    }\n",
       "\n",
       "    .dataframe tbody tr th {\n",
       "        vertical-align: top;\n",
       "    }\n",
       "\n",
       "    .dataframe thead th {\n",
       "        text-align: right;\n",
       "    }\n",
       "</style>\n",
       "<table border=\"1\" class=\"dataframe\">\n",
       "  <thead>\n",
       "    <tr style=\"text-align: right;\">\n",
       "      <th></th>\n",
       "      <th>post</th>\n",
       "      <th>label</th>\n",
       "      <th>manual</th>\n",
       "      <th>label_entrenamiento</th>\n",
       "    </tr>\n",
       "  </thead>\n",
       "  <tbody>\n",
       "    <tr>\n",
       "      <th>0</th>\n",
       "      <td>Banda por quien piensan votar estas elecciones...</td>\n",
       "      <td>1.0</td>\n",
       "      <td>molesto</td>\n",
       "      <td>1</td>\n",
       "    </tr>\n",
       "    <tr>\n",
       "      <th>1</th>\n",
       "      <td>Cuáles son sus predicciones para estas eleccio...</td>\n",
       "      <td>0.0</td>\n",
       "      <td>neutro</td>\n",
       "      <td>0</td>\n",
       "    </tr>\n",
       "    <tr>\n",
       "      <th>2</th>\n",
       "      <td>Quien ganará las elecciones presidenciales?\\nY...</td>\n",
       "      <td>0.0</td>\n",
       "      <td>neutro</td>\n",
       "      <td>0</td>\n",
       "    </tr>\n",
       "    <tr>\n",
       "      <th>3</th>\n",
       "      <td>Se aproximan las elecciones y no se por quién ...</td>\n",
       "      <td>0.0</td>\n",
       "      <td>neutro</td>\n",
       "      <td>0</td>\n",
       "    </tr>\n",
       "    <tr>\n",
       "      <th>4</th>\n",
       "      <td>¿Que tanto influyen los debates en las eleccio...</td>\n",
       "      <td>0.0</td>\n",
       "      <td>neutro</td>\n",
       "      <td>0</td>\n",
       "    </tr>\n",
       "  </tbody>\n",
       "</table>\n",
       "</div>"
      ],
      "text/plain": [
       "                                                post label   manual  \\\n",
       "0  Banda por quien piensan votar estas elecciones...   1.0  molesto   \n",
       "1  Cuáles son sus predicciones para estas eleccio...   0.0   neutro   \n",
       "2  Quien ganará las elecciones presidenciales?\\nY...   0.0   neutro   \n",
       "3  Se aproximan las elecciones y no se por quién ...   0.0   neutro   \n",
       "4  ¿Que tanto influyen los debates en las eleccio...   0.0   neutro   \n",
       "\n",
       "   label_entrenamiento  \n",
       "0                    1  \n",
       "1                    0  \n",
       "2                    0  \n",
       "3                    0  \n",
       "4                    0  "
      ]
     },
     "execution_count": 240,
     "metadata": {},
     "output_type": "execute_result"
    }
   ],
   "source": [
    "df_etiquetado.head()"
   ]
  },
  {
   "cell_type": "markdown",
   "metadata": {},
   "source": [
    "Se logro tener un DF de mas de 500 registros balanceados y con datos corroborados para su posterior limpieza y procesamiento"
   ]
  },
  {
   "cell_type": "code",
   "execution_count": 241,
   "metadata": {},
   "outputs": [
    {
     "name": "stdout",
     "output_type": "stream",
     "text": [
      "Recursos descargados para la limpieza de datos\n"
     ]
    },
    {
     "name": "stderr",
     "output_type": "stream",
     "text": [
      "[nltk_data] Downloading package punkt to\n",
      "[nltk_data]     C:\\Users\\IsraCode\\AppData\\Roaming\\nltk_data...\n",
      "[nltk_data]   Package punkt is already up-to-date!\n",
      "[nltk_data] Downloading package stopwords to\n",
      "[nltk_data]     C:\\Users\\IsraCode\\AppData\\Roaming\\nltk_data...\n",
      "[nltk_data]   Package stopwords is already up-to-date!\n"
     ]
    }
   ],
   "source": [
    "if ejecuta == 2:\n",
    "    import re\n",
    "    from nltk.tokenize import word_tokenize\n",
    "    from nltk.corpus import stopwords\n",
    "    import nltk\n",
    "    from sklearn.feature_extraction.text import TfidfVectorizer\n",
    "    import pandas as pd\n",
    "\n",
    "    # Descargar recursos necesarios de nltk\n",
    "    nltk.download('punkt')\n",
    "    nltk.download('stopwords')\n",
    "    print(\"Recursos descargados para la limpieza de datos\")"
   ]
  },
  {
   "cell_type": "code",
   "execution_count": 264,
   "metadata": {},
   "outputs": [],
   "source": [
    "\n",
    "import re\n",
    "from nltk.corpus import stopwords\n",
    "from nltk.tokenize import word_tokenize\n",
    "\n",
    "def remove_urls(text):\n",
    "    return re.sub(r'http\\S+', '', text)\n",
    "\n",
    "def remove_special_characters(text):\n",
    "    return re.sub(r'[^a-zA-Z0-9\\s]', '', text)\n",
    "\n",
    "def convert_to_lowercase(text):\n",
    "    return text.lower()\n",
    "\n",
    "def tokenize_text(text):\n",
    "    tokens = word_tokenize(text)\n",
    "    return tokens\n",
    "\n",
    "def remove_stopwords(tokens):\n",
    "    spanish_stopwords = set(stopwords.words('spanish'))\n",
    "    filtered_tokens = [word for word in tokens if word not in spanish_stopwords]\n",
    "    return filtered_tokens\n",
    "\n",
    "def preprocess_text(text):\n",
    "    clean_text = remove_special_characters(text)\n",
    "    clean_text = convert_to_lowercase(clean_text)\n",
    "    tokens = tokenize_text(clean_text)\n",
    "    tokens = remove_stopwords(tokens)\n",
    "    return ' '.join(tokens)\n",
    "\n",
    "def replace_newline(text): \n",
    "    return text.replace('\\n', '')\n",
    "\n",
    "def remove_whitespace(text):\n",
    "    return text.strip()\n",
    "\n",
    "def remove_hastags(text): \n",
    "    return re.sub(\"#\", \"\", text)\n",
    "\n",
    "def remove_punctuation(text): \n",
    "    return re.sub('[^A-Za-z]+', ' ', text)\n",
    "\n",
    "def clean_up_pipeline(sentence):\n",
    "    if not isinstance(sentence, str):\n",
    "        return sentence\n",
    "    cleaning_data = [\n",
    "        remove_urls,\n",
    "        remove_special_characters,\n",
    "        convert_to_lowercase,\n",
    "        replace_newline,\n",
    "        remove_whitespace,\n",
    "        remove_hastags,\n",
    "        remove_punctuation,\n",
    "        preprocess_text,\n",
    "    ]\n",
    "    for func in cleaning_data:\n",
    "        sentence = func(sentence)\n",
    "    return sentence\n",
    "\n"
   ]
  },
  {
   "cell_type": "code",
   "execution_count": 243,
   "metadata": {},
   "outputs": [],
   "source": [
    "if ejecuta == 2: \n",
    "    \n",
    "    def clean_recieved_messages(dataframe):\n",
    "        for i in range(len(dataframe)):\n",
    "            if pd.notna(dataframe.iloc[i, dataframe.columns.get_loc('post')]):\n",
    "                dataframe.iloc[i, dataframe.columns.get_loc('post')] = clean_up_pipeline(str(dataframe.iloc[i, dataframe.columns.get_loc('post')]))\n",
    "        return dataframe\n",
    "\n",
    "    # Aplicar la función al DataFrame df_etiquetado\n",
    "    df_etiquetado = clean_recieved_messages(df_etiquetado)\n"
   ]
  },
  {
   "cell_type": "code",
   "execution_count": 244,
   "metadata": {},
   "outputs": [],
   "source": [
    "ejecuta = 3 # Cambiar a 3 para ejecutar el siguiente bloque de código"
   ]
  },
  {
   "cell_type": "markdown",
   "metadata": {},
   "source": [
    "## 3 Entrenamiento Modelo"
   ]
  },
  {
   "cell_type": "code",
   "execution_count": 245,
   "metadata": {},
   "outputs": [],
   "source": [
    "if ejecuta == 3:\n",
    "    # Importar librerías necesarias     \n",
    "    import pandas as pd\n",
    "    from sklearn.feature_extraction.text import TfidfVectorizer\n",
    "    import numpy as np \n",
    "    from sklearn.model_selection import train_test_split\n",
    "    from sklearn.naive_bayes import MultinomialNB\n",
    "    from sklearn.metrics import classification_report, accuracy_score, confusion_matrix"
   ]
  },
  {
   "cell_type": "code",
   "execution_count": 258,
   "metadata": {},
   "outputs": [],
   "source": [
    "if ejecuta == 3:\n",
    "    labels = df_etiquetado.label_entrenamiento\n",
    "    # Asegurarse de que todos los valores en 'post' sean cadenas\n",
    "    df_etiquetado['post'] = df_etiquetado['post'].fillna('').astype(str)\n",
    "\n",
    "    # Definir la variable tfidf\n",
    "    tfidf = TfidfVectorizer()\n",
    "\n",
    "    # Calcular las características usando tfidf \n",
    "    features = tfidf.fit_transform(df_etiquetado['post']).toarray() \n",
    "    # Dividir los datos en conjuntos de entrenamiento y prueba\n",
    "    X_train, X_test, y_train, y_test = train_test_split(features, labels, test_size=0.2, random_state=42)\n",
    "\n",
    "    # Crear y entrenar el modelo Naive Bayes\n",
    "    model = MultinomialNB()\n",
    "    model.fit(X_train, y_train.values.ravel())\n",
    "\n",
    "    # Realizar predicciones\n",
    "    y_pred = model.predict(X_test)\n"
   ]
  },
  {
   "cell_type": "code",
   "execution_count": 254,
   "metadata": {},
   "outputs": [],
   "source": [
    "ejecuta = 4 # Cambiar a 3 para ejecutar el siguiente bloque de código"
   ]
  },
  {
   "cell_type": "markdown",
   "metadata": {},
   "source": [
    "## 4 Analisis de y Resultados"
   ]
  },
  {
   "cell_type": "code",
   "execution_count": 259,
   "metadata": {},
   "outputs": [
    {
     "name": "stdout",
     "output_type": "stream",
     "text": [
      "Length of y_test: 101\n",
      "Length of y_pred: 101\n"
     ]
    }
   ],
   "source": [
    "print(f'Length of y_test: {len(y_test)}')\n",
    "print(f'Length of y_pred: {len(y_pred)}')\n"
   ]
  },
  {
   "cell_type": "code",
   "execution_count": 261,
   "metadata": {},
   "outputs": [
    {
     "name": "stdout",
     "output_type": "stream",
     "text": [
      "Accuracy: 0.8415841584158416\n",
      "Classification Report:\n",
      "              precision    recall  f1-score   support\n",
      "\n",
      "           0       0.83      0.92      0.87        59\n",
      "           1       0.86      0.74      0.79        42\n",
      "\n",
      "    accuracy                           0.84       101\n",
      "   macro avg       0.85      0.83      0.83       101\n",
      "weighted avg       0.84      0.84      0.84       101\n",
      "\n",
      "Confusion Matrix:\n",
      "[[54  5]\n",
      " [11 31]]\n"
     ]
    }
   ],
   "source": [
    "if ejecuta == 4:\n",
    "    # Evaluar el modelo\n",
    "    accuracy = accuracy_score(y_test, y_pred)\n",
    "    print(f'Accuracy: {accuracy}')\n",
    "    print('Classification Report:')\n",
    "    print(classification_report(y_test, y_pred))\n",
    "    print('Confusion Matrix:')\n",
    "    print(confusion_matrix(y_test, y_pred))"
   ]
  },
  {
   "cell_type": "markdown",
   "metadata": {},
   "source": [
    "### Interpretación de los Resultados del Modelo\n",
    "\n",
    "#### Métricas de Evaluación\n",
    "\n",
    "1. **Accuracy (Precisión)**:\n",
    "   - **84.15%**: El modelo clasifica correctamente el 84.15% de las muestras.\n",
    "\n",
    "2. **Informe de Clasificación**:\n",
    "\n",
    "   - **Clase 0 (Neutro)**:\n",
    "     - **Precision (Precisión)**: 0.83. El 83% de las muestras clasificadas como Clase 0 son realmente de la Clase 0.\n",
    "     - **Recall (Sensibilidad)**: 0.92. El modelo identifica correctamente el 92% de las muestras reales de la Clase 0.\n",
    "     - **F1-Score**: 0.87. Media armónica de la precisión y el recall.\n",
    "     - **Support**: 59. Número de muestras reales en la Clase 0.\n",
    "\n",
    "   - **Clase 1 (Molesto)**:\n",
    "     - **Precision (Precisión)**: 0.86. El 86% de las muestras clasificadas como Clase 1 son realmente de la Clase 1.\n",
    "     - **Recall (Sensibilidad)**: 0.74. El modelo identifica correctamente el 74% de las muestras reales de la Clase 1.\n",
    "     - **F1-Score**: 0.79. Media armónica de la precisión y el recall.\n",
    "     - **Support**: 42. Número de muestras reales en la Clase 1.\n",
    "\n",
    "   - **Macro Average (Promedio Macro)**:\n",
    "     - Promedio de las métricas individuales de precisión, recall y F1-score para cada clase, sin considerar el desequilibrio en el número de muestras entre las clases.\n",
    "\n",
    "   - **Weighted Average (Promedio Ponderado)**:\n",
    "     - Promedio ponderado de las métricas individuales de precisión, recall y F1-score para cada clase, considerando el desequilibrio en el número de muestras entre las clases.\n",
    "\n",
    "#### Matriz de Confusión\n",
    "\n",
    "La matriz de confusión muestra el desempeño del modelo en términos de clasificaciones verdaderas y falsas para cada clase.\n",
    "\n"
   ]
  },
  {
   "cell_type": "code",
   "execution_count": 263,
   "metadata": {},
   "outputs": [
    {
     "data": {
      "image/png": "[encoded data removed]",
      "text/plain": [
       "<Figure size 800x600 with 2 Axes>"
      ]
     },
     "metadata": {},
     "output_type": "display_data"
    }
   ],
   "source": [
    " \n",
    "import seaborn as sns\n",
    "import matplotlib.pyplot as plt\n",
    "if ejecuta == 3:    \n",
    "    conf_mat = confusion_matrix(y_test, y_pred)\n",
    "    fig, ax = plt.subplots(figsize=(8,6))\n",
    "    sns.heatmap(conf_mat, annot=True, fmt='d', cmap='Blues')\n",
    "    plt.ylabel('Actual')\n",
    "    plt.xlabel('Predicted')\n",
    "    plt.show()"
   ]
  },
  {
   "cell_type": "markdown",
   "metadata": {},
   "source": [
    "\n",
    "- **Clase 0 (Neutro)**:\n",
    "  - **54** muestras correctamente clasificadas (Verdaderos Negativos).\n",
    "  - **5** muestras incorrectamente clasificadas (Falsos Positivos).\n",
    "\n",
    "- **Clase 1 (Molesto)**:\n",
    "  - **11** muestras incorrectamente clasificadas (Falsos Negativos).\n",
    "  - **31** muestras correctamente clasificadas (Verdaderos Positivos).\n",
    "\n",
    "#### Visualización de la Matriz de Confusión\n",
    "\n",
    "El heatmap de la matriz de confusión visualiza las clasificaciones correctas e incorrectas del modelo.\n",
    "\n",
    "- Los cuadros en diagonal (54 y 31) muestran las clasificaciones correctas.\n",
    "- Los cuadros fuera de la diagonal (5 y 11) muestran las clasificaciones incorrectas.\n",
    "\n",
    "### Importancia de las Métricas y la Matriz de Confusión\n",
    "\n",
    "- **Precisión**: Indica la exactitud de las predicciones positivas del modelo.\n",
    "- **Recall**: Indica la capacidad del modelo para identificar todas las muestras positivas reales.\n",
    "- **F1-Score**: Útil cuando hay un desequilibrio en las clases, proporcionando un equilibrio entre precisión y recall.\n",
    "- **Matriz de Confusión**: Ayuda a entender cómo se distribuyen los errores de clasificación entre las diferentes clases.\n",
    "\n",
    "En resumen, el modelo tiene un buen desempeño general, pero aún hay espacio para mejorar en la identificación de la Clase 1 (Molesto), como se evidencia por los falsos negativos y falsos positivos en la matriz de confusión.\n"
   ]
  },
  {
   "cell_type": "code",
   "execution_count": 271,
   "metadata": {},
   "outputs": [
    {
     "name": "stdout",
     "output_type": "stream",
     "text": [
      "\n",
      "\"cualquier candidatx corruptx molesta mejores opciones\"\n",
      "  - Se predijo como:\t 'molesto'\n",
      "\n",
      "\"saben votar primeras elecciones nervios\"\n",
      "  - Se predijo como:\t 'neutro'\n",
      "\n",
      "\"puede ser prian sigan robando sacarlos\"\n",
      "  - Se predijo como:\t 'molesto'\n",
      "\n",
      "\"hora votar corran gringos gentrificadores harto tener mudarme cada ao precios renta\"\n",
      "  - Se predijo como:\t 'molesto'\n",
      "\n",
      "\"padre esten regalando cafe ir votar jala cafe despues votar jaja\"\n",
      "  - Se predijo como:\t 'neutro'\n"
     ]
    }
   ],
   "source": [
    "texts = [\n",
    "        \"Cualquier candidatx es un corruptx, me molesta que no tengamos mejores opciones\",\n",
    "        \"ya saben por quien votar? estas son mis primeras elecciones que nervios\",\n",
    "        \"como puede ser que el los del PRIAN sigan robando, hay que sacarlos\",\n",
    "        \"ya es hora de votar para que corran a los gringos gentrificadores, estoy harto de tener que mudarme cada año por los precios de renta\",\n",
    "        \"que padre que esten regalando cafe por ir a votar, quien jala por un cafe despues de votar? jaja\"\n",
    "        ]\n",
    "\n",
    "def prueba_clasificacion_modelo_one(tfidf, model, texts):\n",
    "    # Limpiar cada uno de los textos\n",
    "    for i in range(len(texts)):   \n",
    "        texts[i] = clean_up_pipeline(texts[i])\n",
    "\n",
    "    # Transformar los textos a características tfidf\n",
    "    text_features = tfidf.transform(texts)\n",
    "    # Predecir las etiquetas para los nuevos textos\n",
    "    predictions = model.predict(text_features)\n",
    "    for text, predicted in zip(texts, predictions):\n",
    "        print('\\n\"{}\"'.format(text))\n",
    "        if predicted == 0:\n",
    "            print(\"  - Se predijo como:\\t 'neutro'\")\n",
    "        elif predicted == 1:\n",
    "            print(\"  - Se predijo como:\\t 'molesto'\") \n",
    "\n",
    "# Probar el modelo con los nuevos textos\n",
    "prueba_clasificacion_modelo_one(tfidf, model, texts)\n"
   ]
  },
  {
   "cell_type": "code",
   "execution_count": 273,
   "metadata": {},
   "outputs": [
    {
     "data": {
      "image/png": "[encoded data removed]",
      "text/plain": [
       "<Figure size 800x600 with 1 Axes>"
      ]
     },
     "metadata": {},
     "output_type": "display_data"
    }
   ],
   "source": [
    "from sklearn.metrics import roc_curve, roc_auc_score\n",
    "\n",
    "# Calcular las probabilidades de predicción\n",
    "y_prob = model.predict_proba(X_test)[:, 1]\n",
    "\n",
    "# Calcular la curva ROC y el AUC\n",
    "fpr, tpr, thresholds = roc_curve(y_test, y_prob)\n",
    "auc = roc_auc_score(y_test, y_prob)\n",
    "\n",
    "# Graficar la curva ROC\n",
    "plt.figure(figsize=(8,6))\n",
    "plt.plot(fpr, tpr, label=f'AUC = {auc:.2f}')\n",
    "plt.plot([0, 1], [0, 1], 'k--')\n",
    "plt.xlabel('False Positive Rate')\n",
    "plt.ylabel('True Positive Rate')\n",
    "plt.title('Curva ROC')\n",
    "plt.legend(loc='best')\n",
    "plt.show()\n"
   ]
  },
  {
   "cell_type": "markdown",
   "metadata": {},
   "source": [
    "#### Interpretación de la Curva ROC\n",
    "\n",
    "La Curva ROC (Receiver Operating Characteristic) es una representación gráfica que ilustra el rendimiento de un modelo de clasificación binaria a través de diferentes umbrales de decisión. En el eje X se encuentra la Tasa de Falsos Positivos (FPR) y en el eje Y se encuentra la Tasa de Verdaderos Positivos (TPR).\n",
    "\n",
    "La Curva ROC de nuestro modelo muestra que tiene un alto True Positive Rate (TPR) y un bajo False Positive Rate (FPR) en la mayoría de los umbrales de decisión. Esto significa que el modelo clasifica correctamente una alta proporción de textos molestos (TPR alto) y comete pocos errores al clasificar textos neutrales como molestos (FPR bajo). Con un AUC de 0.91, podemos concluir que el modelo es muy eficaz y confiable para la tarea de clasificación de textos en base a sentimientos de molestia y neutralidad."
   ]
  },
  {
   "cell_type": "code",
   "execution_count": 276,
   "metadata": {},
   "outputs": [
    {
     "data": {
      "image/png": "[encoded data removed]",
      "text/plain": [
       "<Figure size 800x600 with 1 Axes>"
      ]
     },
     "metadata": {},
     "output_type": "display_data"
    }
   ],
   "source": [
    "from sklearn.model_selection import learning_curve\n",
    "\n",
    "# Calcular las curvas de aprendizaje\n",
    "train_sizes, train_scores, valid_scores = learning_curve(model, X_train, y_train, cv=5)\n",
    "\n",
    "# Graficar las curvas de aprendizaje\n",
    "plt.figure(figsize=(8,6))\n",
    "plt.plot(train_sizes, train_scores.mean(axis=1), label='Training score')\n",
    "plt.plot(train_sizes, valid_scores.mean(axis=1), label='Validation score')\n",
    "plt.xlabel('Training examples')\n",
    "plt.ylabel('Score')\n",
    "plt.title('Learning Curves')\n",
    "plt.legend(loc='best') \n",
    "plt.show()\n"
   ]
  },
  {
   "cell_type": "markdown",
   "metadata": {},
   "source": [
    "El gráfico muestra que nuestro modelo tiene una alta precisión en los datos de entrenamiento, pero una menor precisión en los datos de validación. Esta diferencia sugiere una posible sobreajuste, donde el modelo se adapta demasiado bien a los datos de entrenamiento y no generaliza tan bien a los datos nuevos. A medida que se incrementan los datos de entrenamiento, la precisión de validación mejora, lo que sugiere que más datos de entrenamiento podrían ayudar a mejorar la generalización del modelo.\n",
    "\n",
    "- Training score (Curva azul): La puntuación de entrenamiento se mantiene alta, cerca de 1.0, incluso cuando el número de ejemplos de entrenamiento aumenta. Esto indica que el modelo se ajusta muy bien a los datos de entrenamiento, manteniendo una alta precisión interna.\n",
    "\n",
    "- Validation score (Curva naranja): La puntuación de validación comienza baja pero aumenta rápidamente a medida que se incrementan los ejemplos de entrenamiento, alcanzando una meseta alrededor de 0.8. Sin embargo, no alcanza la puntuación de entrenamiento, lo que indica una ligera brecha de rendimiento entre el entrenamiento y la validación."
   ]
  }
 ],
 "metadata": {
  "kernelspec": {
   "display_name": "sentimientos",
   "language": "python",
   "name": "python3"
  },
  "language_info": {
   "codemirror_mode": {
    "name": "ipython",
    "version": 3
   },
   "file_extension": ".py",
   "mimetype": "text/x-python",
   "name": "python",
   "nbconvert_exporter": "python",
   "pygments_lexer": "ipython3",
   "version": "3.11.2"
  }
 },
 "nbformat": 4,
 "nbformat_minor": 2
}
